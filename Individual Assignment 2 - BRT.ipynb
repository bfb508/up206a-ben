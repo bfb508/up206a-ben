{
 "cells": [
  {
   "cell_type": "markdown",
   "metadata": {},
   "source": [
    "I am going to be looking at Bus Rapid Transit (BRT) data from LA Metro. This dataset includes the station geographies along Metro's several BRT and Metro Rapid routes throughout Los Angeles."
   ]
  },
  {
   "cell_type": "code",
   "execution_count": 2,
   "metadata": {},
   "outputs": [],
   "source": [
    "import geopandas as gpd"
   ]
  },
  {
   "cell_type": "code",
   "execution_count": 3,
   "metadata": {},
   "outputs": [],
   "source": [
    "lametro = gpd.read_file('data/RapidBRT1219.shp')"
   ]
  },
  {
   "cell_type": "code",
   "execution_count": 7,
   "metadata": {},
   "outputs": [
    {
     "data": {
      "text/html": [
       "<div>\n",
       "<style scoped>\n",
       "    .dataframe tbody tr th:only-of-type {\n",
       "        vertical-align: middle;\n",
       "    }\n",
       "\n",
       "    .dataframe tbody tr th {\n",
       "        vertical-align: top;\n",
       "    }\n",
       "\n",
       "    .dataframe thead th {\n",
       "        text-align: right;\n",
       "    }\n",
       "</style>\n",
       "<table border=\"1\" class=\"dataframe\">\n",
       "  <thead>\n",
       "    <tr style=\"text-align: right;\">\n",
       "      <th></th>\n",
       "      <th>VAR_ROUTE</th>\n",
       "      <th>VAR_IDENT</th>\n",
       "      <th>VAR_DIREC</th>\n",
       "      <th>VAR_DESCR</th>\n",
       "      <th>geometry</th>\n",
       "    </tr>\n",
       "  </thead>\n",
       "  <tbody>\n",
       "    <tr>\n",
       "      <th>0</th>\n",
       "      <td>704</td>\n",
       "      <td>E1</td>\n",
       "      <td>2</td>\n",
       "      <td>END TO END - RAPID - TO DIV13O</td>\n",
       "      <td>LINESTRING (-118.49997 34.01574, -118.50054 34...</td>\n",
       "    </tr>\n",
       "    <tr>\n",
       "      <th>1</th>\n",
       "      <td>704</td>\n",
       "      <td>E3</td>\n",
       "      <td>2</td>\n",
       "      <td>NEBSEP Shortline</td>\n",
       "      <td>LINESTRING (-118.44327 34.04567, -118.44335 34...</td>\n",
       "    </tr>\n",
       "    <tr>\n",
       "      <th>2</th>\n",
       "      <td>704</td>\n",
       "      <td>E6</td>\n",
       "      <td>2</td>\n",
       "      <td>TRIPS START SEPSAN</td>\n",
       "      <td>LINESTRING (-118.44356 34.04791, -118.44354 34...</td>\n",
       "    </tr>\n",
       "    <tr>\n",
       "      <th>3</th>\n",
       "      <td>704</td>\n",
       "      <td>W1</td>\n",
       "      <td>3</td>\n",
       "      <td>END TO END- RAPID - FROM DIV13O</td>\n",
       "      <td>LINESTRING (-118.23190 34.05663, -118.23230 34...</td>\n",
       "    </tr>\n",
       "    <tr>\n",
       "      <th>4</th>\n",
       "      <td>704</td>\n",
       "      <td>W3</td>\n",
       "      <td>3</td>\n",
       "      <td>NEBSEP Shortline</td>\n",
       "      <td>LINESTRING (-118.38430 34.08485, -118.38471 34...</td>\n",
       "    </tr>\n",
       "  </tbody>\n",
       "</table>\n",
       "</div>"
      ],
      "text/plain": [
       "  VAR_ROUTE VAR_IDENT  VAR_DIREC                        VAR_DESCR  \\\n",
       "0       704        E1          2   END TO END - RAPID - TO DIV13O   \n",
       "1       704        E3          2                 NEBSEP Shortline   \n",
       "2       704        E6          2               TRIPS START SEPSAN   \n",
       "3       704        W1          3  END TO END- RAPID - FROM DIV13O   \n",
       "4       704        W3          3                 NEBSEP Shortline   \n",
       "\n",
       "                                            geometry  \n",
       "0  LINESTRING (-118.49997 34.01574, -118.50054 34...  \n",
       "1  LINESTRING (-118.44327 34.04567, -118.44335 34...  \n",
       "2  LINESTRING (-118.44356 34.04791, -118.44354 34...  \n",
       "3  LINESTRING (-118.23190 34.05663, -118.23230 34...  \n",
       "4  LINESTRING (-118.38430 34.08485, -118.38471 34...  "
      ]
     },
     "execution_count": 7,
     "metadata": {},
     "output_type": "execute_result"
    }
   ],
   "source": [
    "#What does this data look like\n",
    "lametro.head()"
   ]
  },
  {
   "cell_type": "markdown",
   "metadata": {},
   "source": [
    "From this, we can see that the dataset provides the route numbers, the station area descriptions, and the latitude and longitudinal coordinates of these stations. The tail and sample code below pull the same information, just displayed at the end of the dataset, and in a random sample respectively. This is shown with the route number, shown in variable (VAR_ROUTE). "
   ]
  },
  {
   "cell_type": "code",
   "execution_count": 8,
   "metadata": {},
   "outputs": [
    {
     "data": {
      "text/html": [
       "<div>\n",
       "<style scoped>\n",
       "    .dataframe tbody tr th:only-of-type {\n",
       "        vertical-align: middle;\n",
       "    }\n",
       "\n",
       "    .dataframe tbody tr th {\n",
       "        vertical-align: top;\n",
       "    }\n",
       "\n",
       "    .dataframe thead th {\n",
       "        text-align: right;\n",
       "    }\n",
       "</style>\n",
       "<table border=\"1\" class=\"dataframe\">\n",
       "  <thead>\n",
       "    <tr style=\"text-align: right;\">\n",
       "      <th></th>\n",
       "      <th>VAR_ROUTE</th>\n",
       "      <th>VAR_IDENT</th>\n",
       "      <th>VAR_DIREC</th>\n",
       "      <th>VAR_DESCR</th>\n",
       "      <th>geometry</th>\n",
       "    </tr>\n",
       "  </thead>\n",
       "  <tbody>\n",
       "    <tr>\n",
       "      <th>82</th>\n",
       "      <td>901</td>\n",
       "      <td>E2</td>\n",
       "      <td>2</td>\n",
       "      <td>CANOGA STATION LAYOVER</td>\n",
       "      <td>LINESTRING (-118.59682 34.19051, -118.59747 34...</td>\n",
       "    </tr>\n",
       "    <tr>\n",
       "      <th>83</th>\n",
       "      <td>901</td>\n",
       "      <td>W1</td>\n",
       "      <td>3</td>\n",
       "      <td>END TO END</td>\n",
       "      <td>LINESTRING (-118.37799 34.16852, -118.37744 34...</td>\n",
       "    </tr>\n",
       "    <tr>\n",
       "      <th>84</th>\n",
       "      <td>901</td>\n",
       "      <td>W2</td>\n",
       "      <td>3</td>\n",
       "      <td>CANOGA STATION LAYOVER</td>\n",
       "      <td>LINESTRING (-118.57169 34.18742, -118.57207 34...</td>\n",
       "    </tr>\n",
       "    <tr>\n",
       "      <th>85</th>\n",
       "      <td>910</td>\n",
       "      <td>N1</td>\n",
       "      <td>0</td>\n",
       "      <td>END TO END</td>\n",
       "      <td>LINESTRING (-118.28798 33.72493, -118.28798 33...</td>\n",
       "    </tr>\n",
       "    <tr>\n",
       "      <th>86</th>\n",
       "      <td>910</td>\n",
       "      <td>S1</td>\n",
       "      <td>1</td>\n",
       "      <td>None</td>\n",
       "      <td>LINESTRING (-118.04513 34.07202, -118.04598 34...</td>\n",
       "    </tr>\n",
       "  </tbody>\n",
       "</table>\n",
       "</div>"
      ],
      "text/plain": [
       "   VAR_ROUTE VAR_IDENT  VAR_DIREC               VAR_DESCR  \\\n",
       "82       901        E2          2  CANOGA STATION LAYOVER   \n",
       "83       901        W1          3              END TO END   \n",
       "84       901        W2          3  CANOGA STATION LAYOVER   \n",
       "85       910        N1          0              END TO END   \n",
       "86       910        S1          1                    None   \n",
       "\n",
       "                                             geometry  \n",
       "82  LINESTRING (-118.59682 34.19051, -118.59747 34...  \n",
       "83  LINESTRING (-118.37799 34.16852, -118.37744 34...  \n",
       "84  LINESTRING (-118.57169 34.18742, -118.57207 34...  \n",
       "85  LINESTRING (-118.28798 33.72493, -118.28798 33...  \n",
       "86  LINESTRING (-118.04513 34.07202, -118.04598 34...  "
      ]
     },
     "execution_count": 8,
     "metadata": {},
     "output_type": "execute_result"
    }
   ],
   "source": [
    "lametro.tail()"
   ]
  },
  {
   "cell_type": "code",
   "execution_count": 9,
   "metadata": {},
   "outputs": [
    {
     "data": {
      "text/html": [
       "<div>\n",
       "<style scoped>\n",
       "    .dataframe tbody tr th:only-of-type {\n",
       "        vertical-align: middle;\n",
       "    }\n",
       "\n",
       "    .dataframe tbody tr th {\n",
       "        vertical-align: top;\n",
       "    }\n",
       "\n",
       "    .dataframe thead th {\n",
       "        text-align: right;\n",
       "    }\n",
       "</style>\n",
       "<table border=\"1\" class=\"dataframe\">\n",
       "  <thead>\n",
       "    <tr style=\"text-align: right;\">\n",
       "      <th></th>\n",
       "      <th>VAR_ROUTE</th>\n",
       "      <th>VAR_IDENT</th>\n",
       "      <th>VAR_DIREC</th>\n",
       "      <th>VAR_DESCR</th>\n",
       "      <th>geometry</th>\n",
       "    </tr>\n",
       "  </thead>\n",
       "  <tbody>\n",
       "    <tr>\n",
       "      <th>49</th>\n",
       "      <td>745</td>\n",
       "      <td>N1</td>\n",
       "      <td>0</td>\n",
       "      <td>Greenline to DIV13O</td>\n",
       "      <td>LINESTRING (-118.23190 34.05663, -118.23209 34...</td>\n",
       "    </tr>\n",
       "  </tbody>\n",
       "</table>\n",
       "</div>"
      ],
      "text/plain": [
       "   VAR_ROUTE VAR_IDENT  VAR_DIREC            VAR_DESCR  \\\n",
       "49       745        N1          0  Greenline to DIV13O   \n",
       "\n",
       "                                             geometry  \n",
       "49  LINESTRING (-118.23190 34.05663, -118.23209 34...  "
      ]
     },
     "execution_count": 9,
     "metadata": {},
     "output_type": "execute_result"
    }
   ],
   "source": [
    "lametro.sample()"
   ]
  },
  {
   "cell_type": "code",
   "execution_count": 10,
   "metadata": {},
   "outputs": [
    {
     "name": "stdout",
     "output_type": "stream",
     "text": [
      "<class 'geopandas.geodataframe.GeoDataFrame'>\n",
      "RangeIndex: 87 entries, 0 to 86\n",
      "Data columns (total 5 columns):\n",
      " #   Column     Non-Null Count  Dtype   \n",
      "---  ------     --------------  -----   \n",
      " 0   VAR_ROUTE  87 non-null     object  \n",
      " 1   VAR_IDENT  87 non-null     object  \n",
      " 2   VAR_DIREC  87 non-null     int64   \n",
      " 3   VAR_DESCR  85 non-null     object  \n",
      " 4   geometry   87 non-null     geometry\n",
      "dtypes: geometry(1), int64(1), object(3)\n",
      "memory usage: 3.5+ KB\n"
     ]
    }
   ],
   "source": [
    "#What type of data is in this set? \n",
    "lametro.info()"
   ]
  },
  {
   "cell_type": "markdown",
   "metadata": {},
   "source": [
    "This shows us that this dataset has a mix of data types, including objects, integers, and geographies. "
   ]
  },
  {
   "cell_type": "code",
   "execution_count": 11,
   "metadata": {},
   "outputs": [
    {
     "data": {
      "text/plain": [
       "(87, 5)"
      ]
     },
     "execution_count": 11,
     "metadata": {},
     "output_type": "execute_result"
    }
   ],
   "source": [
    "#How many rows and columns?\n",
    "lametro.shape"
   ]
  },
  {
   "cell_type": "markdown",
   "metadata": {},
   "source": [
    "There are 87 rows (therefore 87 station areas) and 5 columns. "
   ]
  },
  {
   "cell_type": "code",
   "execution_count": 13,
   "metadata": {},
   "outputs": [
    {
     "data": {
      "text/plain": [
       "<bound method IndexOpsMixin.tolist of Index(['VAR_ROUTE', 'VAR_IDENT', 'VAR_DIREC', 'VAR_DESCR', 'geometry'], dtype='object')>"
      ]
     },
     "execution_count": 13,
     "metadata": {},
     "output_type": "execute_result"
    }
   ],
   "source": [
    "#What are the columns? \n",
    "lametro.columns.to_list"
   ]
  },
  {
   "cell_type": "code",
   "execution_count": 15,
   "metadata": {},
   "outputs": [
    {
     "data": {
      "text/plain": [
       "0     704\n",
       "1     704\n",
       "2     704\n",
       "3     704\n",
       "4     704\n",
       "     ... \n",
       "82    901\n",
       "83    901\n",
       "84    901\n",
       "85    910\n",
       "86    910\n",
       "Name: VAR_ROUTE, Length: 87, dtype: object"
      ]
     },
     "execution_count": 15,
     "metadata": {},
     "output_type": "execute_result"
    }
   ],
   "source": [
    "lametro.VAR_ROUTE"
   ]
  },
  {
   "cell_type": "markdown",
   "metadata": {},
   "source": [
    "This command allows us to see the beginning and end of the VAR_ROUTE variable, showing that the bus routes included in this dataset range from 704 to 910, and there are 87 data points (station areas).  "
   ]
  },
  {
   "cell_type": "code",
   "execution_count": 16,
   "metadata": {},
   "outputs": [
    {
     "data": {
      "text/plain": [
       "(87, 5)"
      ]
     },
     "execution_count": 16,
     "metadata": {},
     "output_type": "execute_result"
    }
   ],
   "source": [
    "lametro.shape"
   ]
  },
  {
   "cell_type": "code",
   "execution_count": 17,
   "metadata": {},
   "outputs": [
    {
     "data": {
      "text/plain": [
       "<bound method DataFrame.info of    VAR_ROUTE VAR_IDENT  VAR_DIREC                        VAR_DESCR  \\\n",
       "0        704        E1          2   END TO END - RAPID - TO DIV13O   \n",
       "1        704        E3          2                 NEBSEP Shortline   \n",
       "2        704        E6          2               TRIPS START SEPSAN   \n",
       "3        704        W1          3  END TO END- RAPID - FROM DIV13O   \n",
       "4        704        W3          3                 NEBSEP Shortline   \n",
       "..       ...       ...        ...                              ...   \n",
       "82       901        E2          2           CANOGA STATION LAYOVER   \n",
       "83       901        W1          3                       END TO END   \n",
       "84       901        W2          3           CANOGA STATION LAYOVER   \n",
       "85       910        N1          0                       END TO END   \n",
       "86       910        S1          1                             None   \n",
       "\n",
       "                                             geometry  \n",
       "0   LINESTRING (-118.49997 34.01574, -118.50054 34...  \n",
       "1   LINESTRING (-118.44327 34.04567, -118.44335 34...  \n",
       "2   LINESTRING (-118.44356 34.04791, -118.44354 34...  \n",
       "3   LINESTRING (-118.23190 34.05663, -118.23230 34...  \n",
       "4   LINESTRING (-118.38430 34.08485, -118.38471 34...  \n",
       "..                                                ...  \n",
       "82  LINESTRING (-118.59682 34.19051, -118.59747 34...  \n",
       "83  LINESTRING (-118.37799 34.16852, -118.37744 34...  \n",
       "84  LINESTRING (-118.57169 34.18742, -118.57207 34...  \n",
       "85  LINESTRING (-118.28798 33.72493, -118.28798 33...  \n",
       "86  LINESTRING (-118.04513 34.07202, -118.04598 34...  \n",
       "\n",
       "[87 rows x 5 columns]>"
      ]
     },
     "execution_count": 17,
     "metadata": {},
     "output_type": "execute_result"
    }
   ],
   "source": [
    "lametro.info"
   ]
  },
  {
   "cell_type": "code",
   "execution_count": 19,
   "metadata": {},
   "outputs": [
    {
     "data": {
      "text/plain": [
       "<matplotlib.axes._subplots.AxesSubplot at 0x7f2133a422b0>"
      ]
     },
     "execution_count": 19,
     "metadata": {},
     "output_type": "execute_result"
    },
    {
     "data": {
      "image/png": "[encoded data removed]",
      "text/plain": [
       "<Figure size 432x288 with 1 Axes>"
      ]
     },
     "metadata": {
      "needs_background": "light"
     },
     "output_type": "display_data"
    }
   ],
   "source": [
    "lametro.plot()"
   ]
  },
  {
   "cell_type": "markdown",
   "metadata": {},
   "source": [
    "This map shows the stations that are included in the dataset. As you can see, it follows Metro's rapid bus lines. "
   ]
  }
 ],
 "metadata": {
  "kernelspec": {
   "display_name": "Python 3",
   "language": "python",
   "name": "python3"
  },
  "language_info": {
   "codemirror_mode": {
    "name": "ipython",
    "version": 3
   },
   "file_extension": ".py",
   "mimetype": "text/x-python",
   "name": "python",
   "nbconvert_exporter": "python",
   "pygments_lexer": "ipython3",
   "version": "3.8.5"
  },
  "toc": {
   "base_numbering": 1,
   "nav_menu": {},
   "number_sections": true,
   "sideBar": true,
   "skip_h1_title": false,
   "title_cell": "Table of Contents",
   "title_sidebar": "Contents",
   "toc_cell": false,
   "toc_position": {},
   "toc_section_display": true,
   "toc_window_display": false
  }
 },
 "nbformat": 4,
 "nbformat_minor": 4
}
